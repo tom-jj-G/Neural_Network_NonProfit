{
 "cells": [
  {
   "cell_type": "code",
   "execution_count": 3,
   "metadata": {},
   "outputs": [
    {
     "data": {
      "text/plain": [
       "Japan            352\n",
       "USA              323\n",
       "South Korea      309\n",
       "Taiwan           224\n",
       "Thailand         191\n",
       "China            169\n",
       "Malaysia         156\n",
       "Hong Kong        137\n",
       "Indonesia        126\n",
       "Singapore        109\n",
       "Vietnam          108\n",
       "UK                69\n",
       "Philippines       47\n",
       "Canada            41\n",
       "India             31\n",
       "Germany           27\n",
       "Mexico            25\n",
       "Australia         22\n",
       "Netherlands       15\n",
       "Nepal             14\n",
       "Myanmar           14\n",
       "Hungary            9\n",
       "Pakistan           9\n",
       "Bangladesh         7\n",
       "Colombia           6\n",
       "Cambodia           5\n",
       "Brazil             5\n",
       "Holland            4\n",
       "Poland             4\n",
       "Fiji               4\n",
       "Finland            3\n",
       "Sweden             3\n",
       "Dubai              3\n",
       "Sarawak            3\n",
       "Ghana              2\n",
       "Estonia            2\n",
       "United States      1\n",
       "Nigeria            1\n",
       "Name: Country, dtype: int64"
      ]
     },
     "execution_count": 3,
     "metadata": {},
     "output_type": "execute_result"
    }
   ],
   "source": [
    "# Import our dependencies\n",
    "import pandas as pd\n",
    "import sklearn as skl\n",
    "import os\n",
    "\n",
    "data = os.path.join(\"Resources\",\"ramen-ratings.csv\")\n",
    "\n",
    "# Read in our ramen data\n",
    "ramen_df = pd.read_csv(data)\n",
    "\n",
    "# Print out the Country value counts\n",
    "country_counts = ramen_df.Country.value_counts()\n",
    "country_counts"
   ]
  },
  {
   "cell_type": "code",
   "execution_count": null,
   "metadata": {},
   "outputs": [],
   "source": []
  },
  {
   "cell_type": "code",
   "execution_count": null,
   "metadata": {},
   "outputs": [],
   "source": []
  },
  {
   "cell_type": "code",
   "execution_count": null,
   "metadata": {},
   "outputs": [],
   "source": []
  }
 ],
 "metadata": {
  "kernelspec": {
   "display_name": "mlenv",
   "language": "python",
   "name": "mlenv"
  },
  "language_info": {
   "codemirror_mode": {
    "name": "ipython",
    "version": 3
   },
   "file_extension": ".py",
   "mimetype": "text/x-python",
   "name": "python",
   "nbconvert_exporter": "python",
   "pygments_lexer": "ipython3",
   "version": "3.7.6"
  }
 },
 "nbformat": 4,
 "nbformat_minor": 4
}
