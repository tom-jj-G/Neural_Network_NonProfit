{
 "cells": [
  {
   "cell_type": "code",
   "execution_count": 22,
   "metadata": {},
   "outputs": [],
   "source": [
    "# Import our dependencies\n",
    "import pandas as pd\n",
    "import matplotlib as plt\n",
    "from sklearn.datasets import make_blobs\n",
    "import sklearn as skl\n",
    "import tensorflow as tf\n",
    "from sklearn.datasets import make_moons"
   ]
  },
  {
   "cell_type": "code",
   "execution_count": 2,
   "metadata": {},
   "outputs": [
    {
     "name": "stdout",
     "output_type": "stream",
     "text": [
      "1.14.0\n"
     ]
    }
   ],
   "source": [
    "print(tf.__version__)"
   ]
  },
  {
   "cell_type": "markdown",
   "metadata": {},
   "source": [
    "# Linear data"
   ]
  },
  {
   "cell_type": "code",
   "execution_count": 3,
   "metadata": {},
   "outputs": [
    {
     "data": {
      "text/html": [
       "<div>\n",
       "<style scoped>\n",
       "    .dataframe tbody tr th:only-of-type {\n",
       "        vertical-align: middle;\n",
       "    }\n",
       "\n",
       "    .dataframe tbody tr th {\n",
       "        vertical-align: top;\n",
       "    }\n",
       "\n",
       "    .dataframe thead th {\n",
       "        text-align: right;\n",
       "    }\n",
       "</style>\n",
       "<table border=\"1\" class=\"dataframe\">\n",
       "  <thead>\n",
       "    <tr style=\"text-align: right;\">\n",
       "      <th></th>\n",
       "      <th>Feature 1</th>\n",
       "      <th>Feature 2</th>\n",
       "    </tr>\n",
       "  </thead>\n",
       "  <tbody>\n",
       "    <tr>\n",
       "      <th>0</th>\n",
       "      <td>5.478098</td>\n",
       "      <td>7.203714</td>\n",
       "    </tr>\n",
       "    <tr>\n",
       "      <th>1</th>\n",
       "      <td>-8.428483</td>\n",
       "      <td>4.121889</td>\n",
       "    </tr>\n",
       "    <tr>\n",
       "      <th>2</th>\n",
       "      <td>-7.905447</td>\n",
       "      <td>3.323639</td>\n",
       "    </tr>\n",
       "    <tr>\n",
       "      <th>3</th>\n",
       "      <td>6.411041</td>\n",
       "      <td>5.523013</td>\n",
       "    </tr>\n",
       "    <tr>\n",
       "      <th>4</th>\n",
       "      <td>7.288599</td>\n",
       "      <td>6.171226</td>\n",
       "    </tr>\n",
       "    <tr>\n",
       "      <th>...</th>\n",
       "      <td>...</td>\n",
       "      <td>...</td>\n",
       "    </tr>\n",
       "    <tr>\n",
       "      <th>995</th>\n",
       "      <td>6.208962</td>\n",
       "      <td>5.233968</td>\n",
       "    </tr>\n",
       "    <tr>\n",
       "      <th>996</th>\n",
       "      <td>-9.795754</td>\n",
       "      <td>3.502709</td>\n",
       "    </tr>\n",
       "    <tr>\n",
       "      <th>997</th>\n",
       "      <td>4.335167</td>\n",
       "      <td>5.928298</td>\n",
       "    </tr>\n",
       "    <tr>\n",
       "      <th>998</th>\n",
       "      <td>-8.466632</td>\n",
       "      <td>3.577022</td>\n",
       "    </tr>\n",
       "    <tr>\n",
       "      <th>999</th>\n",
       "      <td>-8.386629</td>\n",
       "      <td>4.179025</td>\n",
       "    </tr>\n",
       "  </tbody>\n",
       "</table>\n",
       "<p>1000 rows × 2 columns</p>\n",
       "</div>"
      ],
      "text/plain": [
       "     Feature 1  Feature 2\n",
       "0     5.478098   7.203714\n",
       "1    -8.428483   4.121889\n",
       "2    -7.905447   3.323639\n",
       "3     6.411041   5.523013\n",
       "4     7.288599   6.171226\n",
       "..         ...        ...\n",
       "995   6.208962   5.233968\n",
       "996  -9.795754   3.502709\n",
       "997   4.335167   5.928298\n",
       "998  -8.466632   3.577022\n",
       "999  -8.386629   4.179025\n",
       "\n",
       "[1000 rows x 2 columns]"
      ]
     },
     "execution_count": 3,
     "metadata": {},
     "output_type": "execute_result"
    }
   ],
   "source": [
    "# Generate dummy dataset\n",
    "X, y = make_blobs(n_samples=1000, centers=2, n_features=2, random_state=78)\n",
    "\n",
    "# Creating a DataFrame with the dummy data\n",
    "df = pd.DataFrame(X, columns=[\"Feature 1\", \"Feature 2\"])\n",
    "df"
   ]
  },
  {
   "cell_type": "code",
   "execution_count": 4,
   "metadata": {},
   "outputs": [],
   "source": [
    "df[\"Target\"] = y"
   ]
  },
  {
   "cell_type": "code",
   "execution_count": 5,
   "metadata": {},
   "outputs": [
    {
     "data": {
      "text/html": [
       "<div>\n",
       "<style scoped>\n",
       "    .dataframe tbody tr th:only-of-type {\n",
       "        vertical-align: middle;\n",
       "    }\n",
       "\n",
       "    .dataframe tbody tr th {\n",
       "        vertical-align: top;\n",
       "    }\n",
       "\n",
       "    .dataframe thead th {\n",
       "        text-align: right;\n",
       "    }\n",
       "</style>\n",
       "<table border=\"1\" class=\"dataframe\">\n",
       "  <thead>\n",
       "    <tr style=\"text-align: right;\">\n",
       "      <th></th>\n",
       "      <th>Feature 1</th>\n",
       "      <th>Feature 2</th>\n",
       "      <th>Target</th>\n",
       "    </tr>\n",
       "  </thead>\n",
       "  <tbody>\n",
       "    <tr>\n",
       "      <th>0</th>\n",
       "      <td>5.478098</td>\n",
       "      <td>7.203714</td>\n",
       "      <td>1</td>\n",
       "    </tr>\n",
       "    <tr>\n",
       "      <th>1</th>\n",
       "      <td>-8.428483</td>\n",
       "      <td>4.121889</td>\n",
       "      <td>0</td>\n",
       "    </tr>\n",
       "    <tr>\n",
       "      <th>2</th>\n",
       "      <td>-7.905447</td>\n",
       "      <td>3.323639</td>\n",
       "      <td>0</td>\n",
       "    </tr>\n",
       "    <tr>\n",
       "      <th>3</th>\n",
       "      <td>6.411041</td>\n",
       "      <td>5.523013</td>\n",
       "      <td>1</td>\n",
       "    </tr>\n",
       "    <tr>\n",
       "      <th>4</th>\n",
       "      <td>7.288599</td>\n",
       "      <td>6.171226</td>\n",
       "      <td>1</td>\n",
       "    </tr>\n",
       "  </tbody>\n",
       "</table>\n",
       "</div>"
      ],
      "text/plain": [
       "   Feature 1  Feature 2  Target\n",
       "0   5.478098   7.203714       1\n",
       "1  -8.428483   4.121889       0\n",
       "2  -7.905447   3.323639       0\n",
       "3   6.411041   5.523013       1\n",
       "4   7.288599   6.171226       1"
      ]
     },
     "execution_count": 5,
     "metadata": {},
     "output_type": "execute_result"
    }
   ],
   "source": [
    "df.head()"
   ]
  },
  {
   "cell_type": "code",
   "execution_count": 6,
   "metadata": {},
   "outputs": [
    {
     "data": {
      "text/plain": [
       "<matplotlib.axes._subplots.AxesSubplot at 0x23e0766bac8>"
      ]
     },
     "execution_count": 6,
     "metadata": {},
     "output_type": "execute_result"
    },
    {
     "data": {
      "image/png": "[encoded data removed]",
      "text/plain": [
       "<Figure size 432x288 with 2 Axes>"
      ]
     },
     "metadata": {
      "needs_background": "light"
     },
     "output_type": "display_data"
    }
   ],
   "source": [
    "# Plotting the dummy data\n",
    "df.plot.scatter(x=\"Feature 1\", y=\"Feature 2\", c=\"Target\", colormap=\"winter\")"
   ]
  },
  {
   "cell_type": "code",
   "execution_count": 7,
   "metadata": {},
   "outputs": [],
   "source": [
    "# Use sklearn to split dataset\n",
    "from sklearn.model_selection import train_test_split\n",
    "X_train, X_test, y_train, y_test = train_test_split(X, y, random_state=78)"
   ]
  },
  {
   "cell_type": "code",
   "execution_count": 8,
   "metadata": {},
   "outputs": [],
   "source": [
    "# Create scaler instance\n",
    "X_scaler = skl.preprocessing.StandardScaler()\n",
    "\n",
    "# Fit the scaler\n",
    "X_scaler.fit(X_train)\n",
    "\n",
    "# Scale the data\n",
    "X_train_scaled = X_scaler.transform(X_train)\n",
    "X_test_scaled = X_scaler.transform(X_test)"
   ]
  },
  {
   "cell_type": "code",
   "execution_count": 9,
   "metadata": {},
   "outputs": [],
   "source": [
    "# Create the Keras Sequential model\n",
    "nn_model = tf.keras.models.Sequential()"
   ]
  },
  {
   "cell_type": "code",
   "execution_count": 10,
   "metadata": {},
   "outputs": [
    {
     "name": "stdout",
     "output_type": "stream",
     "text": [
      "WARNING:tensorflow:From C:\\Users\\p-d-const127b\\Anaconda3\\lib\\site-packages\\tensorflow\\python\\ops\\init_ops.py:1251: calling VarianceScaling.__init__ (from tensorflow.python.ops.init_ops) with dtype is deprecated and will be removed in a future version.\n",
      "Instructions for updating:\n",
      "Call initializer instance with the dtype argument instead of passing it to the constructor\n"
     ]
    }
   ],
   "source": [
    "# Add our first Dense layer, including the input layer\n",
    "nn_model.add(tf.keras.layers.Dense(units=1, activation=\"relu\", input_dim=2))"
   ]
  },
  {
   "cell_type": "code",
   "execution_count": 11,
   "metadata": {},
   "outputs": [],
   "source": [
    "# Add the output layer that uses a probability activation function\n",
    "nn_model.add(tf.keras.layers.Dense(units=1, activation=\"sigmoid\"))"
   ]
  },
  {
   "cell_type": "code",
   "execution_count": 12,
   "metadata": {},
   "outputs": [
    {
     "name": "stdout",
     "output_type": "stream",
     "text": [
      "Model: \"sequential\"\n",
      "_________________________________________________________________\n",
      "Layer (type)                 Output Shape              Param #   \n",
      "=================================================================\n",
      "dense (Dense)                (None, 1)                 3         \n",
      "_________________________________________________________________\n",
      "dense_1 (Dense)              (None, 1)                 2         \n",
      "=================================================================\n",
      "Total params: 5\n",
      "Trainable params: 5\n",
      "Non-trainable params: 0\n",
      "_________________________________________________________________\n"
     ]
    }
   ],
   "source": [
    "# Check the structure of the Sequential model\n",
    "nn_model.summary()"
   ]
  },
  {
   "cell_type": "code",
   "execution_count": 13,
   "metadata": {},
   "outputs": [
    {
     "name": "stdout",
     "output_type": "stream",
     "text": [
      "WARNING:tensorflow:From C:\\Users\\p-d-const127b\\Anaconda3\\lib\\site-packages\\tensorflow\\python\\ops\\nn_impl.py:180: add_dispatch_support.<locals>.wrapper (from tensorflow.python.ops.array_ops) is deprecated and will be removed in a future version.\n",
      "Instructions for updating:\n",
      "Use tf.where in 2.0, which has the same broadcast rule as np.where\n"
     ]
    }
   ],
   "source": [
    "# Compile the Sequential model together and customize metrics\n",
    "nn_model.compile(loss=\"binary_crossentropy\", optimizer=\"adam\", metrics=[\"accuracy\"])"
   ]
  },
  {
   "cell_type": "code",
   "execution_count": 14,
   "metadata": {},
   "outputs": [
    {
     "name": "stdout",
     "output_type": "stream",
     "text": [
      "Epoch 1/100\n",
      "750/750 [==============================] - 0s 162us/sample - loss: 0.7908 - acc: 0.4200\n",
      "Epoch 2/100\n",
      "750/750 [==============================] - 0s 31us/sample - loss: 0.7714 - acc: 0.4213\n",
      "Epoch 3/100\n",
      "750/750 [==============================] - 0s 25us/sample - loss: 0.7546 - acc: 0.4347\n",
      "Epoch 4/100\n",
      "750/750 [==============================] - 0s 36us/sample - loss: 0.7395 - acc: 0.4520\n",
      "Epoch 5/100\n",
      "750/750 [==============================] - 0s 24us/sample - loss: 0.7264 - acc: 0.4653\n",
      "Epoch 6/100\n",
      "750/750 [==============================] - 0s 31us/sample - loss: 0.7147 - acc: 0.4853\n",
      "Epoch 7/100\n",
      "750/750 [==============================] - 0s 35us/sample - loss: 0.7045 - acc: 0.5093\n",
      "Epoch 8/100\n",
      "750/750 [==============================] - 0s 35us/sample - loss: 0.6949 - acc: 0.5253\n",
      "Epoch 9/100\n",
      "750/750 [==============================] - 0s 24us/sample - loss: 0.6868 - acc: 0.5373\n",
      "Epoch 10/100\n",
      "750/750 [==============================] - 0s 29us/sample - loss: 0.6797 - acc: 0.5560\n",
      "Epoch 11/100\n",
      "750/750 [==============================] - 0s 27us/sample - loss: 0.6724 - acc: 0.5760\n",
      "Epoch 12/100\n",
      "750/750 [==============================] - 0s 29us/sample - loss: 0.6659 - acc: 0.6013\n",
      "Epoch 13/100\n",
      "750/750 [==============================] - 0s 33us/sample - loss: 0.6594 - acc: 0.6267\n",
      "Epoch 14/100\n",
      "750/750 [==============================] - 0s 29us/sample - loss: 0.6529 - acc: 0.6440\n",
      "Epoch 15/100\n",
      "750/750 [==============================] - 0s 32us/sample - loss: 0.6460 - acc: 0.6587\n",
      "Epoch 16/100\n",
      "750/750 [==============================] - ETA: 0s - loss: 0.6396 - acc: 0.750 - 0s 31us/sample - loss: 0.6396 - acc: 0.6680\n",
      "Epoch 17/100\n",
      "750/750 [==============================] - 0s 29us/sample - loss: 0.6325 - acc: 0.6800\n",
      "Epoch 18/100\n",
      "750/750 [==============================] - ETA: 0s - loss: 0.6291 - acc: 0.750 - 0s 29us/sample - loss: 0.6244 - acc: 0.6987\n",
      "Epoch 19/100\n",
      "750/750 [==============================] - 0s 27us/sample - loss: 0.6158 - acc: 0.7107\n",
      "Epoch 20/100\n",
      "750/750 [==============================] - 0s 31us/sample - loss: 0.6059 - acc: 0.7493\n",
      "Epoch 21/100\n",
      "750/750 [==============================] - 0s 51us/sample - loss: 0.5950 - acc: 0.7667\n",
      "Epoch 22/100\n",
      "750/750 [==============================] - 0s 40us/sample - loss: 0.5834 - acc: 0.7853\n",
      "Epoch 23/100\n",
      "750/750 [==============================] - 0s 57us/sample - loss: 0.5705 - acc: 0.8107\n",
      "Epoch 24/100\n",
      "750/750 [==============================] - 0s 56us/sample - loss: 0.5565 - acc: 0.8293\n",
      "Epoch 25/100\n",
      "750/750 [==============================] - 0s 33us/sample - loss: 0.5405 - acc: 0.8533\n",
      "Epoch 26/100\n",
      "750/750 [==============================] - 0s 29us/sample - loss: 0.5229 - acc: 0.8867\n",
      "Epoch 27/100\n",
      "750/750 [==============================] - 0s 27us/sample - loss: 0.5037 - acc: 0.9080\n",
      "Epoch 28/100\n",
      "750/750 [==============================] - 0s 31us/sample - loss: 0.4834 - acc: 0.9373\n",
      "Epoch 29/100\n",
      "750/750 [==============================] - 0s 24us/sample - loss: 0.4633 - acc: 0.9533\n",
      "Epoch 30/100\n",
      "750/750 [==============================] - 0s 28us/sample - loss: 0.4434 - acc: 0.9613\n",
      "Epoch 31/100\n",
      "750/750 [==============================] - 0s 32us/sample - loss: 0.4243 - acc: 0.9760\n",
      "Epoch 32/100\n",
      "750/750 [==============================] - 0s 29us/sample - loss: 0.4060 - acc: 0.9853\n",
      "Epoch 33/100\n",
      "750/750 [==============================] - 0s 35us/sample - loss: 0.3888 - acc: 0.9867\n",
      "Epoch 34/100\n",
      "750/750 [==============================] - 0s 27us/sample - loss: 0.3726 - acc: 0.9893\n",
      "Epoch 35/100\n",
      "750/750 [==============================] - 0s 29us/sample - loss: 0.3575 - acc: 0.9933\n",
      "Epoch 36/100\n",
      "750/750 [==============================] - 0s 29us/sample - loss: 0.3434 - acc: 0.9960\n",
      "Epoch 37/100\n",
      "750/750 [==============================] - 0s 32us/sample - loss: 0.3302 - acc: 0.9960\n",
      "Epoch 38/100\n",
      "750/750 [==============================] - 0s 31us/sample - loss: 0.3175 - acc: 0.9987\n",
      "Epoch 39/100\n",
      "750/750 [==============================] - 0s 29us/sample - loss: 0.3059 - acc: 0.9987\n",
      "Epoch 40/100\n",
      "750/750 [==============================] - 0s 31us/sample - loss: 0.2949 - acc: 1.0000\n",
      "Epoch 41/100\n",
      "750/750 [==============================] - 0s 28us/sample - loss: 0.2846 - acc: 1.0000\n",
      "Epoch 42/100\n",
      "750/750 [==============================] - 0s 31us/sample - loss: 0.2751 - acc: 1.0000\n",
      "Epoch 43/100\n",
      "750/750 [==============================] - 0s 24us/sample - loss: 0.2660 - acc: 1.0000\n",
      "Epoch 44/100\n",
      "750/750 [==============================] - 0s 31us/sample - loss: 0.2576 - acc: 1.0000\n",
      "Epoch 45/100\n",
      "750/750 [==============================] - 0s 31us/sample - loss: 0.2496 - acc: 1.0000\n",
      "Epoch 46/100\n",
      "750/750 [==============================] - 0s 28us/sample - loss: 0.2420 - acc: 1.0000\n",
      "Epoch 47/100\n",
      "750/750 [==============================] - 0s 29us/sample - loss: 0.2350 - acc: 1.0000\n",
      "Epoch 48/100\n",
      "750/750 [==============================] - 0s 28us/sample - loss: 0.2282 - acc: 1.0000\n",
      "Epoch 49/100\n",
      "750/750 [==============================] - 0s 29us/sample - loss: 0.2218 - acc: 1.0000\n",
      "Epoch 50/100\n",
      "750/750 [==============================] - 0s 31us/sample - loss: 0.2157 - acc: 1.0000\n",
      "Epoch 51/100\n",
      "750/750 [==============================] - 0s 31us/sample - loss: 0.2098 - acc: 1.0000\n",
      "Epoch 52/100\n",
      "750/750 [==============================] - 0s 32us/sample - loss: 0.2043 - acc: 1.0000\n",
      "Epoch 53/100\n",
      "750/750 [==============================] - 0s 25us/sample - loss: 0.1990 - acc: 1.0000\n",
      "Epoch 54/100\n",
      "750/750 [==============================] - 0s 31us/sample - loss: 0.1939 - acc: 1.0000\n",
      "Epoch 55/100\n",
      "750/750 [==============================] - 0s 29us/sample - loss: 0.1891 - acc: 1.0000\n",
      "Epoch 56/100\n",
      "750/750 [==============================] - ETA: 0s - loss: 0.1631 - acc: 1.000 - 0s 25us/sample - loss: 0.1844 - acc: 1.0000\n",
      "Epoch 57/100\n",
      "750/750 [==============================] - 0s 25us/sample - loss: 0.1800 - acc: 1.0000\n",
      "Epoch 58/100\n",
      "750/750 [==============================] - 0s 24us/sample - loss: 0.1757 - acc: 1.0000\n",
      "Epoch 59/100\n",
      "750/750 [==============================] - 0s 32us/sample - loss: 0.1716 - acc: 1.0000\n",
      "Epoch 60/100\n",
      "750/750 [==============================] - 0s 36us/sample - loss: 0.1676 - acc: 1.0000\n",
      "Epoch 61/100\n",
      "750/750 [==============================] - 0s 44us/sample - loss: 0.1638 - acc: 1.0000\n",
      "Epoch 62/100\n",
      "750/750 [==============================] - 0s 52us/sample - loss: 0.1602 - acc: 1.0000\n",
      "Epoch 63/100\n",
      "750/750 [==============================] - 0s 49us/sample - loss: 0.1566 - acc: 1.0000\n",
      "Epoch 64/100\n",
      "750/750 [==============================] - 0s 29us/sample - loss: 0.1532 - acc: 1.0000\n",
      "Epoch 65/100\n",
      "750/750 [==============================] - 0s 28us/sample - loss: 0.1499 - acc: 1.0000\n",
      "Epoch 66/100\n",
      "750/750 [==============================] - 0s 31us/sample - loss: 0.1467 - acc: 1.0000\n",
      "Epoch 67/100\n",
      "750/750 [==============================] - 0s 29us/sample - loss: 0.1437 - acc: 1.0000\n",
      "Epoch 68/100\n",
      "750/750 [==============================] - 0s 32us/sample - loss: 0.1407 - acc: 1.0000\n",
      "Epoch 69/100\n",
      "750/750 [==============================] - 0s 33us/sample - loss: 0.1378 - acc: 1.0000\n",
      "Epoch 70/100\n",
      "750/750 [==============================] - 0s 33us/sample - loss: 0.1350 - acc: 1.0000\n",
      "Epoch 71/100\n",
      "750/750 [==============================] - 0s 31us/sample - loss: 0.1323 - acc: 1.0000\n",
      "Epoch 72/100\n",
      "750/750 [==============================] - 0s 32us/sample - loss: 0.1297 - acc: 1.0000\n",
      "Epoch 73/100\n",
      "750/750 [==============================] - 0s 31us/sample - loss: 0.1272 - acc: 1.0000\n",
      "Epoch 74/100\n",
      "750/750 [==============================] - 0s 31us/sample - loss: 0.1247 - acc: 1.0000\n",
      "Epoch 75/100\n",
      "750/750 [==============================] - 0s 28us/sample - loss: 0.1223 - acc: 1.0000\n",
      "Epoch 76/100\n",
      "750/750 [==============================] - 0s 33us/sample - loss: 0.1200 - acc: 1.0000\n",
      "Epoch 77/100\n",
      "750/750 [==============================] - 0s 27us/sample - loss: 0.1177 - acc: 1.0000\n",
      "Epoch 78/100\n",
      "750/750 [==============================] - 0s 32us/sample - loss: 0.1155 - acc: 1.0000\n",
      "Epoch 79/100\n",
      "750/750 [==============================] - 0s 31us/sample - loss: 0.1134 - acc: 1.0000\n",
      "Epoch 80/100\n",
      "750/750 [==============================] - 0s 32us/sample - loss: 0.1113 - acc: 1.0000\n",
      "Epoch 81/100\n"
     ]
    },
    {
     "name": "stdout",
     "output_type": "stream",
     "text": [
      "750/750 [==============================] - 0s 31us/sample - loss: 0.1093 - acc: 1.0000\n",
      "Epoch 82/100\n",
      "750/750 [==============================] - 0s 33us/sample - loss: 0.1073 - acc: 1.0000\n",
      "Epoch 83/100\n",
      "750/750 [==============================] - 0s 29us/sample - loss: 0.1054 - acc: 1.0000\n",
      "Epoch 84/100\n",
      "750/750 [==============================] - 0s 31us/sample - loss: 0.1035 - acc: 1.0000\n",
      "Epoch 85/100\n",
      "750/750 [==============================] - 0s 28us/sample - loss: 0.1017 - acc: 1.0000\n",
      "Epoch 86/100\n",
      "750/750 [==============================] - 0s 29us/sample - loss: 0.0999 - acc: 1.0000\n",
      "Epoch 87/100\n",
      "750/750 [==============================] - 0s 31us/sample - loss: 0.0982 - acc: 1.0000\n",
      "Epoch 88/100\n",
      "750/750 [==============================] - 0s 32us/sample - loss: 0.0966 - acc: 1.0000\n",
      "Epoch 89/100\n",
      "750/750 [==============================] - 0s 32us/sample - loss: 0.0949 - acc: 1.0000\n",
      "Epoch 90/100\n",
      "750/750 [==============================] - 0s 32us/sample - loss: 0.0933 - acc: 1.0000\n",
      "Epoch 91/100\n",
      "750/750 [==============================] - 0s 29us/sample - loss: 0.0917 - acc: 1.0000\n",
      "Epoch 92/100\n",
      "750/750 [==============================] - 0s 32us/sample - loss: 0.0902 - acc: 1.0000\n",
      "Epoch 93/100\n",
      "750/750 [==============================] - 0s 28us/sample - loss: 0.0887 - acc: 1.0000\n",
      "Epoch 94/100\n",
      "750/750 [==============================] - 0s 28us/sample - loss: 0.0873 - acc: 1.0000\n",
      "Epoch 95/100\n",
      "750/750 [==============================] - 0s 29us/sample - loss: 0.0858 - acc: 1.0000\n",
      "Epoch 96/100\n",
      "750/750 [==============================] - 0s 29us/sample - loss: 0.0844 - acc: 1.0000\n",
      "Epoch 97/100\n",
      "750/750 [==============================] - 0s 31us/sample - loss: 0.0831 - acc: 1.0000\n",
      "Epoch 98/100\n",
      "750/750 [==============================] - 0s 29us/sample - loss: 0.0818 - acc: 1.0000\n",
      "Epoch 99/100\n",
      "750/750 [==============================] - 0s 32us/sample - loss: 0.0805 - acc: 1.0000\n",
      "Epoch 100/100\n",
      "750/750 [==============================] - 0s 31us/sample - loss: 0.0792 - acc: 1.0000\n"
     ]
    }
   ],
   "source": [
    "# Fit the model to the training data\n",
    "fit_model = nn_model.fit(X_train_scaled, y_train, epochs=100)"
   ]
  },
  {
   "cell_type": "code",
   "execution_count": 15,
   "metadata": {},
   "outputs": [
    {
     "data": {
      "text/plain": [
       "<matplotlib.axes._subplots.AxesSubplot at 0x23e0932f348>"
      ]
     },
     "execution_count": 15,
     "metadata": {},
     "output_type": "execute_result"
    },
    {
     "data": {
      "image/png": "[encoded data removed]",
      "text/plain": [
       "<Figure size 432x288 with 1 Axes>"
      ]
     },
     "metadata": {
      "needs_background": "light"
     },
     "output_type": "display_data"
    }
   ],
   "source": [
    "# Create a DataFrame containing training history\n",
    "history_df = pd.DataFrame(fit_model.history, index=range(1,len(fit_model.history[\"loss\"])+1))\n",
    "\n",
    "# Plot the loss\n",
    "history_df.plot(y=\"loss\")"
   ]
  },
  {
   "cell_type": "code",
   "execution_count": 18,
   "metadata": {},
   "outputs": [
    {
     "data": {
      "text/plain": [
       "<matplotlib.axes._subplots.AxesSubplot at 0x23e09447b88>"
      ]
     },
     "execution_count": 18,
     "metadata": {},
     "output_type": "execute_result"
    },
    {
     "data": {
      "image/png": "[encoded data removed]",
      "text/plain": [
       "<Figure size 432x288 with 1 Axes>"
      ]
     },
     "metadata": {
      "needs_background": "light"
     },
     "output_type": "display_data"
    }
   ],
   "source": [
    "# Plot the accuracy\n",
    "history_df.plot(y=\"acc\")"
   ]
  },
  {
   "cell_type": "code",
   "execution_count": 19,
   "metadata": {},
   "outputs": [
    {
     "name": "stdout",
     "output_type": "stream",
     "text": [
      "250/250 - 0s - loss: 0.0745 - acc: 1.0000\n",
      "Loss: 0.07450046336650848, Accuracy: 1.0\n"
     ]
    }
   ],
   "source": [
    "# Evaluate the model using the test data\n",
    "model_loss, model_accuracy = nn_model.evaluate(X_test_scaled,y_test,verbose=2)\n",
    "print(f\"Loss: {model_loss}, Accuracy: {model_accuracy}\")"
   ]
  },
  {
   "cell_type": "markdown",
   "metadata": {},
   "source": [
    "# Non-linear data"
   ]
  },
  {
   "cell_type": "code",
   "execution_count": 20,
   "metadata": {},
   "outputs": [
    {
     "data": {
      "text/plain": [
       "array([[0],\n",
       "       [1],\n",
       "       [0],\n",
       "       [1],\n",
       "       [0],\n",
       "       [0],\n",
       "       [1],\n",
       "       [1],\n",
       "       [1],\n",
       "       [0]])"
      ]
     },
     "execution_count": 20,
     "metadata": {},
     "output_type": "execute_result"
    }
   ],
   "source": [
    "# Predict the classification of a new set of blob data\n",
    "new_X, new_Y = make_blobs(n_samples=10, centers=2, n_features=2, random_state=78)\n",
    "new_X_scaled = X_scaler.transform(new_X)\n",
    "nn_model.predict_classes(new_X_scaled)"
   ]
  },
  {
   "cell_type": "code",
   "execution_count": 24,
   "metadata": {},
   "outputs": [
    {
     "data": {
      "text/plain": [
       "<matplotlib.axes._subplots.AxesSubplot at 0x23e0a77ad08>"
      ]
     },
     "execution_count": 24,
     "metadata": {},
     "output_type": "execute_result"
    },
    {
     "data": {
      "image/png": "[encoded data removed]",
      "text/plain": [
       "<Figure size 432x288 with 2 Axes>"
      ]
     },
     "metadata": {
      "needs_background": "light"
     },
     "output_type": "display_data"
    }
   ],
   "source": [
    "# Creating dummy nonlinear data\n",
    "X_moons, y_moons = make_moons(n_samples=1000, noise=0.08, random_state=78)\n",
    "\n",
    "# Transforming y_moons to a vertical vector\n",
    "y_moons = y_moons.reshape(-1, 1)\n",
    "\n",
    "# Creating a DataFrame to plot the nonlinear dummy data\n",
    "df_moons = pd.DataFrame(X_moons, columns=[\"Feature 1\", \"Feature 2\"])\n",
    "df_moons[\"Target\"] = y_moons\n",
    "\n",
    "# Plot the nonlinear dummy data\n",
    "df_moons.plot.scatter(x=\"Feature 1\",y=\"Feature 2\", c=\"Target\",colormap=\"winter\")"
   ]
  },
  {
   "cell_type": "code",
   "execution_count": 25,
   "metadata": {},
   "outputs": [],
   "source": [
    "# Create training and testing sets\n",
    "X_moon_train, X_moon_test, y_moon_train, y_moon_test = train_test_split(\n",
    "    X_moons, y_moons, random_state=78\n",
    ")\n",
    "\n",
    "# Create the scaler instance\n",
    "X_moon_scaler = skl.preprocessing.StandardScaler()\n",
    "\n",
    "# Fit the scaler\n",
    "X_moon_scaler.fit(X_moon_train)\n",
    "\n",
    "# Scale the data\n",
    "X_moon_train_scaled = X_moon_scaler.transform(X_moon_train)\n",
    "X_moon_test_scaled = X_moon_scaler.transform(X_moon_test)"
   ]
  },
  {
   "cell_type": "code",
   "execution_count": 26,
   "metadata": {},
   "outputs": [
    {
     "name": "stdout",
     "output_type": "stream",
     "text": [
      "Epoch 1/100\n",
      "750/750 [==============================] - 0s 27us/sample - loss: 0.6766 - acc: 0.7053\n",
      "Epoch 2/100\n",
      "750/750 [==============================] - 0s 24us/sample - loss: 0.6219 - acc: 0.7187\n",
      "Epoch 3/100\n",
      "750/750 [==============================] - 0s 29us/sample - loss: 0.5773 - acc: 0.7267\n",
      "Epoch 4/100\n",
      "750/750 [==============================] - 0s 35us/sample - loss: 0.5430 - acc: 0.7333\n",
      "Epoch 5/100\n",
      "750/750 [==============================] - 0s 32us/sample - loss: 0.5179 - acc: 0.7440\n",
      "Epoch 6/100\n",
      "750/750 [==============================] - 0s 29us/sample - loss: 0.4961 - acc: 0.7520\n",
      "Epoch 7/100\n",
      "750/750 [==============================] - 0s 31us/sample - loss: 0.4791 - acc: 0.7640\n",
      "Epoch 8/100\n",
      "750/750 [==============================] - 0s 29us/sample - loss: 0.4648 - acc: 0.7693\n",
      "Epoch 9/100\n",
      "750/750 [==============================] - 0s 31us/sample - loss: 0.4523 - acc: 0.7747\n",
      "Epoch 10/100\n",
      "750/750 [==============================] - 0s 32us/sample - loss: 0.4408 - acc: 0.7773\n",
      "Epoch 11/100\n",
      "750/750 [==============================] - 0s 29us/sample - loss: 0.4308 - acc: 0.7840\n",
      "Epoch 12/100\n",
      "750/750 [==============================] - 0s 32us/sample - loss: 0.4216 - acc: 0.7867\n",
      "Epoch 13/100\n",
      "750/750 [==============================] - 0s 29us/sample - loss: 0.4132 - acc: 0.7907\n",
      "Epoch 14/100\n",
      "750/750 [==============================] - 0s 39us/sample - loss: 0.4056 - acc: 0.8000\n",
      "Epoch 15/100\n",
      "750/750 [==============================] - 0s 33us/sample - loss: 0.3987 - acc: 0.8053\n",
      "Epoch 16/100\n",
      "750/750 [==============================] - 0s 31us/sample - loss: 0.3918 - acc: 0.8053\n",
      "Epoch 17/100\n",
      "750/750 [==============================] - 0s 33us/sample - loss: 0.3857 - acc: 0.8107\n",
      "Epoch 18/100\n",
      "750/750 [==============================] - 0s 32us/sample - loss: 0.3799 - acc: 0.8133\n",
      "Epoch 19/100\n",
      "750/750 [==============================] - ETA: 0s - loss: 0.3810 - acc: 0.781 - 0s 32us/sample - loss: 0.3744 - acc: 0.8160\n",
      "Epoch 20/100\n",
      "750/750 [==============================] - 0s 31us/sample - loss: 0.3692 - acc: 0.8187\n",
      "Epoch 21/100\n",
      "750/750 [==============================] - 0s 29us/sample - loss: 0.3641 - acc: 0.8213\n",
      "Epoch 22/100\n",
      "750/750 [==============================] - 0s 29us/sample - loss: 0.3592 - acc: 0.8240\n",
      "Epoch 23/100\n",
      "750/750 [==============================] - 0s 29us/sample - loss: 0.3546 - acc: 0.8253\n",
      "Epoch 24/100\n",
      "750/750 [==============================] - 0s 31us/sample - loss: 0.3501 - acc: 0.8267\n",
      "Epoch 25/100\n",
      "750/750 [==============================] - 0s 31us/sample - loss: 0.3459 - acc: 0.8267\n",
      "Epoch 26/100\n",
      "750/750 [==============================] - 0s 31us/sample - loss: 0.3420 - acc: 0.8267\n",
      "Epoch 27/100\n",
      "750/750 [==============================] - 0s 28us/sample - loss: 0.3380 - acc: 0.8280\n",
      "Epoch 28/100\n",
      "750/750 [==============================] - 0s 37us/sample - loss: 0.3345 - acc: 0.8307\n",
      "Epoch 29/100\n",
      "750/750 [==============================] - 0s 36us/sample - loss: 0.3307 - acc: 0.8307\n",
      "Epoch 30/100\n",
      "750/750 [==============================] - 0s 32us/sample - loss: 0.3273 - acc: 0.8333\n",
      "Epoch 31/100\n",
      "750/750 [==============================] - 0s 29us/sample - loss: 0.3240 - acc: 0.8373\n",
      "Epoch 32/100\n",
      "750/750 [==============================] - 0s 28us/sample - loss: 0.3207 - acc: 0.8387\n",
      "Epoch 33/100\n",
      "750/750 [==============================] - 0s 31us/sample - loss: 0.3177 - acc: 0.8413\n",
      "Epoch 34/100\n",
      "750/750 [==============================] - 0s 32us/sample - loss: 0.3147 - acc: 0.8440\n",
      "Epoch 35/100\n",
      "750/750 [==============================] - 0s 32us/sample - loss: 0.3119 - acc: 0.8467\n",
      "Epoch 36/100\n",
      "750/750 [==============================] - 0s 30us/sample - loss: 0.3092 - acc: 0.8493\n",
      "Epoch 37/100\n",
      "750/750 [==============================] - 0s 29us/sample - loss: 0.3066 - acc: 0.8520\n",
      "Epoch 38/100\n",
      "750/750 [==============================] - 0s 28us/sample - loss: 0.3040 - acc: 0.8573\n",
      "Epoch 39/100\n",
      "750/750 [==============================] - 0s 32us/sample - loss: 0.3016 - acc: 0.8587\n",
      "Epoch 40/100\n",
      "750/750 [==============================] - 0s 29us/sample - loss: 0.2992 - acc: 0.8600\n",
      "Epoch 41/100\n",
      "750/750 [==============================] - 0s 35us/sample - loss: 0.2970 - acc: 0.8613\n",
      "Epoch 42/100\n",
      "750/750 [==============================] - ETA: 0s - loss: 0.3126 - acc: 0.843 - 0s 31us/sample - loss: 0.2947 - acc: 0.8627\n",
      "Epoch 43/100\n",
      "750/750 [==============================] - 0s 37us/sample - loss: 0.2928 - acc: 0.8627\n",
      "Epoch 44/100\n",
      "750/750 [==============================] - 0s 37us/sample - loss: 0.2907 - acc: 0.8707\n",
      "Epoch 45/100\n",
      "750/750 [==============================] - 0s 36us/sample - loss: 0.2887 - acc: 0.8733\n",
      "Epoch 46/100\n",
      "750/750 [==============================] - 0s 31us/sample - loss: 0.2869 - acc: 0.8747\n",
      "Epoch 47/100\n",
      "750/750 [==============================] - 0s 28us/sample - loss: 0.2852 - acc: 0.8760\n",
      "Epoch 48/100\n",
      "750/750 [==============================] - 0s 29us/sample - loss: 0.2837 - acc: 0.8787\n",
      "Epoch 49/100\n",
      "750/750 [==============================] - 0s 32us/sample - loss: 0.2821 - acc: 0.8800\n",
      "Epoch 50/100\n",
      "750/750 [==============================] - 0s 32us/sample - loss: 0.2808 - acc: 0.8813\n",
      "Epoch 51/100\n",
      "750/750 [==============================] - 0s 36us/sample - loss: 0.2794 - acc: 0.8813\n",
      "Epoch 52/100\n",
      "750/750 [==============================] - 0s 33us/sample - loss: 0.2782 - acc: 0.8813\n",
      "Epoch 53/100\n",
      "750/750 [==============================] - 0s 37us/sample - loss: 0.2771 - acc: 0.8840\n",
      "Epoch 54/100\n",
      "750/750 [==============================] - 0s 39us/sample - loss: 0.2760 - acc: 0.8840\n",
      "Epoch 55/100\n",
      "750/750 [==============================] - 0s 40us/sample - loss: 0.2751 - acc: 0.8840\n",
      "Epoch 56/100\n",
      "750/750 [==============================] - 0s 32us/sample - loss: 0.2742 - acc: 0.8840\n",
      "Epoch 57/100\n",
      "750/750 [==============================] - 0s 31us/sample - loss: 0.2735 - acc: 0.8840\n",
      "Epoch 58/100\n",
      "750/750 [==============================] - 0s 33us/sample - loss: 0.2726 - acc: 0.8853\n",
      "Epoch 59/100\n",
      "750/750 [==============================] - 0s 29us/sample - loss: 0.2720 - acc: 0.8880\n",
      "Epoch 60/100\n",
      "750/750 [==============================] - 0s 31us/sample - loss: 0.2714 - acc: 0.8880\n",
      "Epoch 61/100\n",
      "750/750 [==============================] - 0s 28us/sample - loss: 0.2707 - acc: 0.8880\n",
      "Epoch 62/100\n",
      "750/750 [==============================] - 0s 31us/sample - loss: 0.2702 - acc: 0.8893\n",
      "Epoch 63/100\n",
      "750/750 [==============================] - 0s 32us/sample - loss: 0.2696 - acc: 0.8893\n",
      "Epoch 64/100\n",
      "750/750 [==============================] - 0s 31us/sample - loss: 0.2690 - acc: 0.8893\n",
      "Epoch 65/100\n",
      "750/750 [==============================] - 0s 31us/sample - loss: 0.2686 - acc: 0.8920\n",
      "Epoch 66/100\n",
      "750/750 [==============================] - 0s 32us/sample - loss: 0.2681 - acc: 0.8920\n",
      "Epoch 67/100\n",
      "750/750 [==============================] - 0s 32us/sample - loss: 0.2677 - acc: 0.8920\n",
      "Epoch 68/100\n",
      "750/750 [==============================] - 0s 36us/sample - loss: 0.2672 - acc: 0.8907\n",
      "Epoch 69/100\n",
      "750/750 [==============================] - 0s 28us/sample - loss: 0.2668 - acc: 0.8907\n",
      "Epoch 70/100\n",
      "750/750 [==============================] - 0s 35us/sample - loss: 0.2666 - acc: 0.8907\n",
      "Epoch 71/100\n",
      "750/750 [==============================] - 0s 31us/sample - loss: 0.2661 - acc: 0.8920\n",
      "Epoch 72/100\n",
      "750/750 [==============================] - 0s 33us/sample - loss: 0.2658 - acc: 0.8920\n",
      "Epoch 73/100\n",
      "750/750 [==============================] - 0s 40us/sample - loss: 0.2654 - acc: 0.8920\n",
      "Epoch 74/100\n",
      "750/750 [==============================] - 0s 28us/sample - loss: 0.2651 - acc: 0.8920\n",
      "Epoch 75/100\n",
      "750/750 [==============================] - 0s 31us/sample - loss: 0.2649 - acc: 0.8920\n",
      "Epoch 76/100\n",
      "750/750 [==============================] - 0s 28us/sample - loss: 0.2645 - acc: 0.8920\n",
      "Epoch 77/100\n",
      "750/750 [==============================] - 0s 29us/sample - loss: 0.2643 - acc: 0.8920\n",
      "Epoch 78/100\n",
      "750/750 [==============================] - 0s 29us/sample - loss: 0.2640 - acc: 0.8920\n",
      "Epoch 79/100\n",
      "750/750 [==============================] - 0s 29us/sample - loss: 0.2638 - acc: 0.8920\n",
      "Epoch 80/100\n",
      "750/750 [==============================] - 0s 36us/sample - loss: 0.2636 - acc: 0.8920\n",
      "Epoch 81/100\n",
      "750/750 [==============================] - 0s 29us/sample - loss: 0.2632 - acc: 0.8920\n",
      "Epoch 82/100\n"
     ]
    },
    {
     "name": "stdout",
     "output_type": "stream",
     "text": [
      "750/750 [==============================] - 0s 33us/sample - loss: 0.2630 - acc: 0.8920\n",
      "Epoch 83/100\n",
      "750/750 [==============================] - 0s 29us/sample - loss: 0.2628 - acc: 0.8920\n",
      "Epoch 84/100\n",
      "750/750 [==============================] - 0s 29us/sample - loss: 0.2625 - acc: 0.8920\n",
      "Epoch 85/100\n",
      "750/750 [==============================] - 0s 29us/sample - loss: 0.2623 - acc: 0.8920\n",
      "Epoch 86/100\n",
      "750/750 [==============================] - 0s 29us/sample - loss: 0.2621 - acc: 0.8920\n",
      "Epoch 87/100\n",
      "750/750 [==============================] - 0s 27us/sample - loss: 0.2619 - acc: 0.8920\n",
      "Epoch 88/100\n",
      "750/750 [==============================] - 0s 32us/sample - loss: 0.2617 - acc: 0.8920\n",
      "Epoch 89/100\n",
      "750/750 [==============================] - 0s 29us/sample - loss: 0.2614 - acc: 0.8920\n",
      "Epoch 90/100\n",
      "750/750 [==============================] - 0s 31us/sample - loss: 0.2613 - acc: 0.8920\n",
      "Epoch 91/100\n",
      "750/750 [==============================] - 0s 28us/sample - loss: 0.2611 - acc: 0.8920\n",
      "Epoch 92/100\n",
      "750/750 [==============================] - 0s 35us/sample - loss: 0.2609 - acc: 0.8920\n",
      "Epoch 93/100\n",
      "750/750 [==============================] - 0s 29us/sample - loss: 0.2606 - acc: 0.8920\n",
      "Epoch 94/100\n",
      "750/750 [==============================] - 0s 33us/sample - loss: 0.2605 - acc: 0.8920\n",
      "Epoch 95/100\n",
      "750/750 [==============================] - 0s 28us/sample - loss: 0.2603 - acc: 0.8920\n",
      "Epoch 96/100\n",
      "750/750 [==============================] - 0s 31us/sample - loss: 0.2601 - acc: 0.8920\n",
      "Epoch 97/100\n",
      "750/750 [==============================] - 0s 29us/sample - loss: 0.2599 - acc: 0.8907\n",
      "Epoch 98/100\n",
      "750/750 [==============================] - 0s 31us/sample - loss: 0.2597 - acc: 0.8907\n",
      "Epoch 99/100\n",
      "750/750 [==============================] - 0s 28us/sample - loss: 0.2596 - acc: 0.8907\n",
      "Epoch 100/100\n",
      "750/750 [==============================] - 0s 28us/sample - loss: 0.2595 - acc: 0.8907\n"
     ]
    }
   ],
   "source": [
    "# Training the model with the nonlinear data\n",
    "model_moon = nn_model.fit(X_moon_train_scaled, y_moon_train, epochs=100, shuffle=True)"
   ]
  },
  {
   "cell_type": "code",
   "execution_count": 27,
   "metadata": {},
   "outputs": [
    {
     "data": {
      "text/plain": [
       "<matplotlib.axes._subplots.AxesSubplot at 0x23e0a7b1c48>"
      ]
     },
     "execution_count": 27,
     "metadata": {},
     "output_type": "execute_result"
    },
    {
     "data": {
      "image/png": "[encoded data removed]",
      "text/plain": [
       "<Figure size 432x288 with 1 Axes>"
      ]
     },
     "metadata": {
      "needs_background": "light"
     },
     "output_type": "display_data"
    }
   ],
   "source": [
    "# Create a DataFrame containing training history\n",
    "history_df = pd.DataFrame(model_moon.history, index=range(1,len(model_moon.history[\"loss\"])+1))\n",
    "\n",
    "# Plot the loss\n",
    "history_df.plot(y=\"loss\")"
   ]
  },
  {
   "cell_type": "code",
   "execution_count": 29,
   "metadata": {},
   "outputs": [
    {
     "data": {
      "text/plain": [
       "<matplotlib.axes._subplots.AxesSubplot at 0x23e0a8c9fc8>"
      ]
     },
     "execution_count": 29,
     "metadata": {},
     "output_type": "execute_result"
    },
    {
     "data": {
      "image/png": "[encoded data removed]",
      "text/plain": [
       "<Figure size 432x288 with 1 Axes>"
      ]
     },
     "metadata": {
      "needs_background": "light"
     },
     "output_type": "display_data"
    }
   ],
   "source": [
    "# Plot the loss\n",
    "history_df.plot(y=\"acc\")"
   ]
  },
  {
   "cell_type": "markdown",
   "metadata": {},
   "source": [
    "## Non-linear Data with multiple neurons"
   ]
  },
  {
   "cell_type": "code",
   "execution_count": 30,
   "metadata": {},
   "outputs": [],
   "source": [
    "# Generate our new Sequential model\n",
    "new_model = tf.keras.models.Sequential()"
   ]
  },
  {
   "cell_type": "code",
   "execution_count": 31,
   "metadata": {},
   "outputs": [],
   "source": [
    "# Add the input and hidden layer\n",
    "number_inputs = 2\n",
    "number_hidden_nodes = 6\n",
    "\n",
    "new_model.add(tf.keras.layers.Dense(units=number_hidden_nodes, activation=\"relu\", input_dim=number_inputs))\n",
    "\n",
    "# Add the output layer that uses a probability activation function\n",
    "new_model.add(tf.keras.layers.Dense(units=1, activation=\"sigmoid\"))"
   ]
  },
  {
   "cell_type": "code",
   "execution_count": 32,
   "metadata": {},
   "outputs": [
    {
     "name": "stdout",
     "output_type": "stream",
     "text": [
      "Epoch 1/100\n",
      "750/750 [==============================] - 0s 120us/sample - loss: 0.6193 - acc: 0.6320\n",
      "Epoch 2/100\n",
      "750/750 [==============================] - 0s 31us/sample - loss: 0.5896 - acc: 0.6707\n",
      "Epoch 3/100\n",
      "750/750 [==============================] - 0s 33us/sample - loss: 0.5640 - acc: 0.6973\n",
      "Epoch 4/100\n",
      "750/750 [==============================] - 0s 35us/sample - loss: 0.5407 - acc: 0.7093\n",
      "Epoch 5/100\n",
      "750/750 [==============================] - 0s 31us/sample - loss: 0.5194 - acc: 0.7200\n",
      "Epoch 6/100\n",
      "750/750 [==============================] - 0s 39us/sample - loss: 0.4989 - acc: 0.7493\n",
      "Epoch 7/100\n",
      "750/750 [==============================] - 0s 33us/sample - loss: 0.4793 - acc: 0.7840\n",
      "Epoch 8/100\n",
      "750/750 [==============================] - 0s 32us/sample - loss: 0.4598 - acc: 0.8067\n",
      "Epoch 9/100\n",
      "750/750 [==============================] - 0s 36us/sample - loss: 0.4413 - acc: 0.8227\n",
      "Epoch 10/100\n",
      "750/750 [==============================] - 0s 32us/sample - loss: 0.4238 - acc: 0.8400\n",
      "Epoch 11/100\n",
      "750/750 [==============================] - 0s 33us/sample - loss: 0.4076 - acc: 0.8493\n",
      "Epoch 12/100\n",
      "750/750 [==============================] - 0s 35us/sample - loss: 0.3927 - acc: 0.8533\n",
      "Epoch 13/100\n",
      "750/750 [==============================] - 0s 31us/sample - loss: 0.3789 - acc: 0.8587\n",
      "Epoch 14/100\n",
      "750/750 [==============================] - 0s 37us/sample - loss: 0.3662 - acc: 0.8667\n",
      "Epoch 15/100\n",
      "750/750 [==============================] - 0s 39us/sample - loss: 0.3548 - acc: 0.8667\n",
      "Epoch 16/100\n",
      "750/750 [==============================] - 0s 37us/sample - loss: 0.3443 - acc: 0.8680\n",
      "Epoch 17/100\n",
      "750/750 [==============================] - 0s 31us/sample - loss: 0.3348 - acc: 0.8680\n",
      "Epoch 18/100\n",
      "750/750 [==============================] - 0s 33us/sample - loss: 0.3261 - acc: 0.8693\n",
      "Epoch 19/100\n",
      "750/750 [==============================] - 0s 37us/sample - loss: 0.3180 - acc: 0.8693\n",
      "Epoch 20/100\n",
      "750/750 [==============================] - 0s 32us/sample - loss: 0.3111 - acc: 0.8720\n",
      "Epoch 21/100\n",
      "750/750 [==============================] - 0s 36us/sample - loss: 0.3043 - acc: 0.8733\n",
      "Epoch 22/100\n",
      "750/750 [==============================] - 0s 33us/sample - loss: 0.2985 - acc: 0.8760\n",
      "Epoch 23/100\n",
      "750/750 [==============================] - 0s 43us/sample - loss: 0.2930 - acc: 0.8760\n",
      "Epoch 24/100\n",
      "750/750 [==============================] - 0s 37us/sample - loss: 0.2880 - acc: 0.8760\n",
      "Epoch 25/100\n",
      "750/750 [==============================] - 0s 33us/sample - loss: 0.2835 - acc: 0.8760\n",
      "Epoch 26/100\n",
      "750/750 [==============================] - 0s 37us/sample - loss: 0.2792 - acc: 0.8787\n",
      "Epoch 27/100\n",
      "750/750 [==============================] - 0s 33us/sample - loss: 0.2753 - acc: 0.8813\n",
      "Epoch 28/100\n",
      "750/750 [==============================] - 0s 36us/sample - loss: 0.2716 - acc: 0.8853\n",
      "Epoch 29/100\n",
      "750/750 [==============================] - 0s 37us/sample - loss: 0.2682 - acc: 0.8853\n",
      "Epoch 30/100\n",
      "750/750 [==============================] - 0s 36us/sample - loss: 0.2652 - acc: 0.8867\n",
      "Epoch 31/100\n",
      "750/750 [==============================] - 0s 31us/sample - loss: 0.2624 - acc: 0.8880\n",
      "Epoch 32/100\n",
      "750/750 [==============================] - 0s 37us/sample - loss: 0.2595 - acc: 0.8920\n",
      "Epoch 33/100\n",
      "750/750 [==============================] - 0s 33us/sample - loss: 0.2572 - acc: 0.8907\n",
      "Epoch 34/100\n",
      "750/750 [==============================] - 0s 32us/sample - loss: 0.2548 - acc: 0.8907\n",
      "Epoch 35/100\n",
      "750/750 [==============================] - 0s 39us/sample - loss: 0.2527 - acc: 0.8933\n",
      "Epoch 36/100\n",
      "750/750 [==============================] - 0s 33us/sample - loss: 0.2508 - acc: 0.8933\n",
      "Epoch 37/100\n",
      "750/750 [==============================] - 0s 31us/sample - loss: 0.2490 - acc: 0.8933\n",
      "Epoch 38/100\n",
      "750/750 [==============================] - 0s 37us/sample - loss: 0.2473 - acc: 0.8947\n",
      "Epoch 39/100\n",
      "750/750 [==============================] - 0s 39us/sample - loss: 0.2458 - acc: 0.8960\n",
      "Epoch 40/100\n",
      "750/750 [==============================] - 0s 32us/sample - loss: 0.2445 - acc: 0.8960\n",
      "Epoch 41/100\n",
      "750/750 [==============================] - 0s 31us/sample - loss: 0.2432 - acc: 0.8960\n",
      "Epoch 42/100\n",
      "750/750 [==============================] - 0s 35us/sample - loss: 0.2420 - acc: 0.8947\n",
      "Epoch 43/100\n",
      "750/750 [==============================] - 0s 31us/sample - loss: 0.2409 - acc: 0.8960\n",
      "Epoch 44/100\n",
      "750/750 [==============================] - 0s 33us/sample - loss: 0.2399 - acc: 0.8960\n",
      "Epoch 45/100\n",
      "750/750 [==============================] - 0s 32us/sample - loss: 0.2390 - acc: 0.8960\n",
      "Epoch 46/100\n",
      "750/750 [==============================] - 0s 32us/sample - loss: 0.2381 - acc: 0.8960\n",
      "Epoch 47/100\n",
      "750/750 [==============================] - 0s 32us/sample - loss: 0.2373 - acc: 0.8973\n",
      "Epoch 48/100\n",
      "750/750 [==============================] - 0s 32us/sample - loss: 0.2365 - acc: 0.8973\n",
      "Epoch 49/100\n",
      "750/750 [==============================] - 0s 29us/sample - loss: 0.2357 - acc: 0.8973\n",
      "Epoch 50/100\n",
      "750/750 [==============================] - 0s 33us/sample - loss: 0.2351 - acc: 0.8987\n",
      "Epoch 51/100\n",
      "750/750 [==============================] - 0s 33us/sample - loss: 0.2344 - acc: 0.8987\n",
      "Epoch 52/100\n",
      "750/750 [==============================] - 0s 39us/sample - loss: 0.2337 - acc: 0.8987\n",
      "Epoch 53/100\n",
      "750/750 [==============================] - 0s 36us/sample - loss: 0.2332 - acc: 0.8987\n",
      "Epoch 54/100\n",
      "750/750 [==============================] - 0s 35us/sample - loss: 0.2325 - acc: 0.8987\n",
      "Epoch 55/100\n",
      "750/750 [==============================] - 0s 33us/sample - loss: 0.2319 - acc: 0.9000\n",
      "Epoch 56/100\n",
      "750/750 [==============================] - 0s 43us/sample - loss: 0.2314 - acc: 0.9000\n",
      "Epoch 57/100\n",
      "750/750 [==============================] - 0s 36us/sample - loss: 0.2308 - acc: 0.9000\n",
      "Epoch 58/100\n",
      "750/750 [==============================] - 0s 37us/sample - loss: 0.2304 - acc: 0.9000\n",
      "Epoch 59/100\n",
      "750/750 [==============================] - 0s 31us/sample - loss: 0.2298 - acc: 0.9000\n",
      "Epoch 60/100\n",
      "750/750 [==============================] - 0s 31us/sample - loss: 0.2293 - acc: 0.9000\n",
      "Epoch 61/100\n",
      "750/750 [==============================] - 0s 32us/sample - loss: 0.2289 - acc: 0.9000\n",
      "Epoch 62/100\n",
      "750/750 [==============================] - 0s 32us/sample - loss: 0.2284 - acc: 0.9013\n",
      "Epoch 63/100\n",
      "750/750 [==============================] - ETA: 0s - loss: 0.1317 - acc: 0.968 - 0s 36us/sample - loss: 0.2280 - acc: 0.9013\n",
      "Epoch 64/100\n",
      "750/750 [==============================] - 0s 29us/sample - loss: 0.2278 - acc: 0.9013\n",
      "Epoch 65/100\n",
      "750/750 [==============================] - 0s 35us/sample - loss: 0.2272 - acc: 0.9013\n",
      "Epoch 66/100\n",
      "750/750 [==============================] - 0s 32us/sample - loss: 0.2267 - acc: 0.9013\n",
      "Epoch 67/100\n",
      "750/750 [==============================] - 0s 32us/sample - loss: 0.2263 - acc: 0.9013\n",
      "Epoch 68/100\n",
      "750/750 [==============================] - 0s 35us/sample - loss: 0.2261 - acc: 0.9013\n",
      "Epoch 69/100\n",
      "750/750 [==============================] - 0s 31us/sample - loss: 0.2256 - acc: 0.9013\n",
      "Epoch 70/100\n",
      "750/750 [==============================] - 0s 33us/sample - loss: 0.2253 - acc: 0.9013\n",
      "Epoch 71/100\n",
      "750/750 [==============================] - 0s 32us/sample - loss: 0.2249 - acc: 0.9013\n",
      "Epoch 72/100\n",
      "750/750 [==============================] - 0s 33us/sample - loss: 0.2247 - acc: 0.9013\n",
      "Epoch 73/100\n",
      "750/750 [==============================] - 0s 31us/sample - loss: 0.2243 - acc: 0.9013\n",
      "Epoch 74/100\n",
      "750/750 [==============================] - 0s 32us/sample - loss: 0.2240 - acc: 0.9013\n",
      "Epoch 75/100\n",
      "750/750 [==============================] - 0s 40us/sample - loss: 0.2237 - acc: 0.9013\n",
      "Epoch 76/100\n",
      "750/750 [==============================] - 0s 36us/sample - loss: 0.2235 - acc: 0.9013\n",
      "Epoch 77/100\n",
      "750/750 [==============================] - 0s 31us/sample - loss: 0.2231 - acc: 0.9013\n",
      "Epoch 78/100\n",
      "750/750 [==============================] - 0s 36us/sample - loss: 0.2228 - acc: 0.9013\n",
      "Epoch 79/100\n",
      "750/750 [==============================] - 0s 31us/sample - loss: 0.2224 - acc: 0.9013\n",
      "Epoch 80/100\n",
      "750/750 [==============================] - 0s 31us/sample - loss: 0.2221 - acc: 0.9013\n",
      "Epoch 81/100\n",
      "750/750 [==============================] - ETA: 0s - loss: 0.2217 - acc: 0.937 - 0s 29us/sample - loss: 0.2219 - acc: 0.9013\n",
      "Epoch 82/100\n"
     ]
    },
    {
     "name": "stdout",
     "output_type": "stream",
     "text": [
      "750/750 [==============================] - 0s 35us/sample - loss: 0.2216 - acc: 0.9013\n",
      "Epoch 83/100\n",
      "750/750 [==============================] - 0s 32us/sample - loss: 0.2212 - acc: 0.9027\n",
      "Epoch 84/100\n",
      "750/750 [==============================] - 0s 32us/sample - loss: 0.2209 - acc: 0.9013\n",
      "Epoch 85/100\n",
      "750/750 [==============================] - 0s 47us/sample - loss: 0.2207 - acc: 0.9013\n",
      "Epoch 86/100\n",
      "750/750 [==============================] - 0s 49us/sample - loss: 0.2202 - acc: 0.9000\n",
      "Epoch 87/100\n",
      "750/750 [==============================] - 0s 35us/sample - loss: 0.2200 - acc: 0.9013\n",
      "Epoch 88/100\n",
      "750/750 [==============================] - 0s 31us/sample - loss: 0.2197 - acc: 0.9000\n",
      "Epoch 89/100\n",
      "750/750 [==============================] - 0s 47us/sample - loss: 0.2195 - acc: 0.9013\n",
      "Epoch 90/100\n",
      "750/750 [==============================] - 0s 47us/sample - loss: 0.2192 - acc: 0.9013\n",
      "Epoch 91/100\n",
      "750/750 [==============================] - 0s 27us/sample - loss: 0.2189 - acc: 0.9013\n",
      "Epoch 92/100\n",
      "750/750 [==============================] - 0s 25us/sample - loss: 0.2187 - acc: 0.9013\n",
      "Epoch 93/100\n",
      "750/750 [==============================] - 0s 27us/sample - loss: 0.2185 - acc: 0.9013\n",
      "Epoch 94/100\n",
      "750/750 [==============================] - 0s 25us/sample - loss: 0.2183 - acc: 0.9013\n",
      "Epoch 95/100\n",
      "750/750 [==============================] - 0s 27us/sample - loss: 0.2181 - acc: 0.9027\n",
      "Epoch 96/100\n",
      "750/750 [==============================] - 0s 31us/sample - loss: 0.2178 - acc: 0.9027\n",
      "Epoch 97/100\n",
      "750/750 [==============================] - 0s 28us/sample - loss: 0.2176 - acc: 0.9013\n",
      "Epoch 98/100\n",
      "750/750 [==============================] - 0s 28us/sample - loss: 0.2176 - acc: 0.9000\n",
      "Epoch 99/100\n",
      "750/750 [==============================] - 0s 28us/sample - loss: 0.2172 - acc: 0.9013\n",
      "Epoch 100/100\n",
      "750/750 [==============================] - 0s 27us/sample - loss: 0.2171 - acc: 0.9027\n"
     ]
    }
   ],
   "source": [
    "# Compile the Sequential model together and customize metrics\n",
    "new_model.compile(loss=\"binary_crossentropy\", optimizer=\"adam\", metrics=[\"accuracy\"])\n",
    "\n",
    "# Fit the model to the training data\n",
    "new_fit_model = new_model.fit(X_moon_train_scaled, y_moon_train, epochs=100, shuffle=True)"
   ]
  },
  {
   "cell_type": "code",
   "execution_count": null,
   "metadata": {},
   "outputs": [],
   "source": []
  }
 ],
 "metadata": {
  "kernelspec": {
   "display_name": "mlenv",
   "language": "python",
   "name": "mlenv"
  },
  "language_info": {
   "codemirror_mode": {
    "name": "ipython",
    "version": 3
   },
   "file_extension": ".py",
   "mimetype": "text/x-python",
   "name": "python",
   "nbconvert_exporter": "python",
   "pygments_lexer": "ipython3",
   "version": "3.7.6"
  }
 },
 "nbformat": 4,
 "nbformat_minor": 4
}
